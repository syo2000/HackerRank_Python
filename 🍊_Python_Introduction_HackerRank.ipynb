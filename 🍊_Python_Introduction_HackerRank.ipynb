{
  "nbformat": 4,
  "nbformat_minor": 0,
  "metadata": {
    "colab": {
      "name": "🍊 Python-Introduction-HackerRank.ipynb",
      "provenance": [],
      "collapsed_sections": [
        "TiqWyJFgTmoU",
        "mQWWLfV3YpxP",
        "54uH_x3NfdLo",
        "9Lhp04UYhoGg",
        "ftdZGpH2k6Wg",
        "BDl8_k0CnNTR"
      ],
      "authorship_tag": "ABX9TyNyJADhUn9t6qmeA57ygNy/",
      "include_colab_link": true
    },
    "kernelspec": {
      "name": "python3",
      "display_name": "Python 3"
    },
    "language_info": {
      "name": "python"
    }
  },
  "cells": [
    {
      "cell_type": "markdown",
      "metadata": {
        "id": "view-in-github",
        "colab_type": "text"
      },
      "source": [
        "<a href=\"https://colab.research.google.com/github/syo2000/HackerRank_Python/blob/main/%F0%9F%8D%8A_Python_Introduction_HackerRank.ipynb\" target=\"_parent\"><img src=\"https://colab.research.google.com/assets/colab-badge.svg\" alt=\"Open In Colab\"/></a>"
      ]
    },
    {
      "cell_type": "markdown",
      "metadata": {
        "id": "TiqWyJFgTmoU"
      },
      "source": [
        "##🥑 Say \"Hello, World!\" With Python\n",
        "\n"
      ]
    },
    {
      "cell_type": "markdown",
      "metadata": {
        "id": "zG9Rjg_aSx0j"
      },
      "source": [
        "Here is a sample line of code that can be executed in Python:\n",
        "\n",
        "```python\n",
        "print(\"Hello, World!\")\n",
        "```\n",
        "\n",
        "You can just as easily store a string as a variable and then print it to stdout:\n",
        "\n",
        "```python\n",
        "my_string = \"Hello, World!\"\n",
        "print(my_string)\n",
        "```\n",
        "\n",
        "The above code will print Hello, World! on your screen. Try it yourself in the editor below!\n",
        "\n",
        "**Input Format**\n",
        "\n",
        "You do not need to read any input in this challenge.\n",
        "\n",
        "**Output Format**\n",
        "\n",
        "Print Hello, World! to stdout.\n",
        "\n",
        "**Sample Output 0**\n",
        "```python\n",
        "Hello, World!\n",
        "```\n"
      ]
    },
    {
      "cell_type": "code",
      "metadata": {
        "colab": {
          "base_uri": "https://localhost:8080/"
        },
        "id": "6cf1Fg7ITYwm",
        "outputId": "f9222ff2-cd51-4050-e44c-6f43648eeba0"
      },
      "source": [
        "print(\"Hello, World!\")"
      ],
      "execution_count": null,
      "outputs": [
        {
          "output_type": "stream",
          "name": "stdout",
          "text": [
            "Hello, World!\n"
          ]
        }
      ]
    },
    {
      "cell_type": "markdown",
      "metadata": {
        "id": "mQWWLfV3YpxP"
      },
      "source": [
        "##🥑 Arithmetic Operators"
      ]
    },
    {
      "cell_type": "markdown",
      "metadata": {
        "id": "Dwo33yVHZBkU"
      },
      "source": [
        "**Task**\n",
        "\n",
        "The provided code stub reads two integers from STDIN, ***a*** and ***b***. Add code to print three lines where:\n",
        "1.   The first line contains the sum of the two numbers.\n",
        "2.   The second line contains the difference of the two numbers (first - second).\n",
        "3. The third line contains the product of the two numbers.\n",
        "\n",
        "**Example**\n",
        "\n",
        "$a = 3$\n",
        "\n",
        "$b = 5$\n",
        "\n",
        "Print the following:\n",
        "```\n",
        "8\n",
        "-2\n",
        "15\n",
        "```\n",
        "**Input Format**\n",
        "\n",
        "The first line contains the first integer, ***a***.\n",
        "\n",
        "The second line contains the second integer, ***b***.\n",
        "\n",
        "**Constraints**\n",
        "\n",
        "$1 <= a <= 10^{10}$\n",
        "\n",
        "$1 <= a <= 10^{10}$\n",
        "\n",
        "**Output Format**\n",
        "\n",
        "Print the three lines as explained above.\n",
        "\n",
        "**Sample Input 0**\n",
        "```\n",
        "3\n",
        "2\n",
        "```\n",
        "**Sample Output 0**\n",
        "```\n",
        "5\n",
        "1\n",
        "6\n",
        "```\n",
        "**Explanation 0**\n",
        "\n",
        "$3 + 2 => 5$\n",
        "\n",
        "$3 - 2 => 1$\n",
        "\n",
        "$3 * 2 => 6$\n",
        "\n",
        "\n",
        "\n",
        "\n"
      ]
    },
    {
      "cell_type": "code",
      "metadata": {
        "colab": {
          "base_uri": "https://localhost:8080/"
        },
        "id": "7R9l4taLbWba",
        "outputId": "157d48d3-0312-4568-d57a-c59a51cef206"
      },
      "source": [
        "if __name__ == '__main__':\n",
        "    a = int(input());\n",
        "    b = int(input());\n",
        "    print (a + b);\n",
        "    print (a - b);\n",
        "    2print (a*b);\n",
        "#print((a + b), (a - b), (a * b), sep='\\n')"
      ],
      "execution_count": null,
      "outputs": [
        {
          "output_type": "stream",
          "name": "stdout",
          "text": [
            "3\n",
            "2\n",
            "5\n",
            "1\n",
            "6\n"
          ]
        }
      ]
    },
    {
      "cell_type": "markdown",
      "metadata": {
        "id": "54uH_x3NfdLo"
      },
      "source": [
        "##🥑 Python: Division\n",
        "\n"
      ]
    },
    {
      "cell_type": "markdown",
      "metadata": {
        "id": "l1gMjo99gf1v"
      },
      "source": [
        "**Task**\n",
        "\n",
        "The provided code stub reads two integers, ***a*** and ***b***, from STDIN.\n",
        "\n",
        "Add logic to print two lines. The first line should contain the result of integer division,***a//b*** . The second line should contain the result of float division,  ***a/b*** .\n",
        "\n",
        "No rounding or formatting is necessary.\n",
        "\n",
        "**Example**\n",
        "\n",
        "$a = 3$\n",
        "\n",
        "$b = 5$\n",
        "\n",
        "The result of the integer division $3//5=0$.\n",
        "\n",
        "The result of the float division is $3/5=0.6$.\n",
        "\n",
        "**Print:**\n",
        "\n",
        "```\n",
        "0\n",
        "0.6\n",
        "```\n",
        "**Input Format**\n",
        "\n",
        "The first line contains the first integer, ***a***.\n",
        "\n",
        "The second line contains the second integer, ***b***.\n",
        "\n",
        "**Output Format**\n",
        "\n",
        "Print the two lines as described above.\n",
        "\n",
        "**Sample Input 0**\n",
        "\n",
        "```\n",
        "4\n",
        "3\n",
        "```\n",
        "\n",
        "\n",
        "**Sample Output 0**\n",
        "```\n",
        "1\n",
        "1.33333333333\n",
        "```"
      ]
    },
    {
      "cell_type": "code",
      "metadata": {
        "colab": {
          "base_uri": "https://localhost:8080/"
        },
        "id": "o-8T3WK-hQPS",
        "outputId": "cbd7e0f2-9e88-4d5a-b20f-06a801582352"
      },
      "source": [
        "if __name__ == '__main__':\n",
        "    a = int(input())\n",
        "    b = int(input())\n",
        "    print (a//b);\n",
        "    print (a/b);"
      ],
      "execution_count": null,
      "outputs": [
        {
          "output_type": "stream",
          "name": "stdout",
          "text": [
            "4\n",
            "3\n",
            "1\n",
            "1.3333333333333333\n"
          ]
        }
      ]
    },
    {
      "cell_type": "markdown",
      "metadata": {
        "id": "9Lhp04UYhoGg"
      },
      "source": [
        "##🥑 Loops"
      ]
    },
    {
      "cell_type": "markdown",
      "metadata": {
        "id": "_oggb8qBhrIA"
      },
      "source": [
        "**Task**\n",
        "\n",
        "The provided code stub reads and integer, $n$, from STDIN. For all non-negative integers $i< n$, print $i^2$ .\n",
        "\n",
        "**Example**\n",
        "\n",
        "$n=3$\n",
        "\n",
        "The list of non-negative integers that are less than $n=3$ is $[0,1,2]$. Print the square of each number on a separate line.\n",
        "```\n",
        "0\n",
        "1\n",
        "4\n",
        "```\n",
        "**Input Format**\n",
        "\n",
        "The first and only line contains the integer, $n$.\n",
        "\n",
        "**Constraints**\n",
        "\n",
        "$1<=n<=20$\n",
        "\n",
        "**Output Format**\n",
        "\n",
        "Print $n$ lines, one corresponding to each $i$.\n",
        "\n",
        "**Sample Input 0**\n",
        "```\n",
        "5\n",
        "```\n",
        "**Sample Output 0**\n",
        "```\n",
        "0\n",
        "1\n",
        "4\n",
        "9\n",
        "16\n",
        "```\n",
        "\n"
      ]
    },
    {
      "cell_type": "code",
      "metadata": {
        "colab": {
          "base_uri": "https://localhost:8080/"
        },
        "id": "M9gVu1TjjLES",
        "outputId": "d66078a9-f710-4d59-8bee-28a78a89ff84"
      },
      "source": [
        "if __name__ == '__main__':\n",
        "    n = int(input())\n",
        "    for i in range(n):\n",
        "        print (pow(i,2));"
      ],
      "execution_count": null,
      "outputs": [
        {
          "output_type": "stream",
          "name": "stdout",
          "text": [
            "5\n",
            "0\n",
            "1\n",
            "4\n",
            "9\n",
            "16\n"
          ]
        }
      ]
    },
    {
      "cell_type": "markdown",
      "metadata": {
        "id": "ftdZGpH2k6Wg"
      },
      "source": [
        "##🥑 Print Function\n",
        "\n"
      ]
    },
    {
      "cell_type": "markdown",
      "metadata": {
        "id": "moTWRHGTk8ko"
      },
      "source": [
        "The included code stub will read an integer,$n$ , from STDIN.\n",
        "\n",
        "Without using any string methods, try to print the following:\n",
        "\n",
        "$123...n$\n",
        "\n",
        "Note that \"....\" represents the consecutive values in between.\n",
        "\n",
        "**Example**\n",
        "\n",
        "$n = 5$\n",
        "\n",
        "Print the string $12345$.\n",
        "\n",
        "**Input Format**\n",
        "\n",
        "The first line contains an integer $n$.\n",
        "\n",
        "**Constraints**\n",
        "\n",
        "$1<=n<=150$\n",
        "\n",
        "**Output Format**\n",
        "\n",
        "Print the list of integers from $1$ through $n$ as a string, without spaces.\n",
        "\n",
        "**Sample Input 0**\n",
        "```\n",
        "3\n",
        "```\n",
        "**Sample Output 0**\n",
        "```\n",
        "123\n",
        "```\n",
        "\n"
      ]
    },
    {
      "cell_type": "code",
      "metadata": {
        "colab": {
          "base_uri": "https://localhost:8080/"
        },
        "id": "EMLL-dyNloVb",
        "outputId": "7e7da979-988c-461f-cc99-460717bab64a"
      },
      "source": [
        "if __name__ == '__main__':\n",
        "    n = int(input())\n",
        "    for i in range(1, n+1):\n",
        "        print(i, end=\"\")"
      ],
      "execution_count": null,
      "outputs": [
        {
          "output_type": "stream",
          "name": "stdout",
          "text": [
            "3\n",
            "123"
          ]
        }
      ]
    },
    {
      "cell_type": "markdown",
      "metadata": {
        "id": "BDl8_k0CnNTR"
      },
      "source": [
        "##🥑 Write a function"
      ]
    },
    {
      "cell_type": "markdown",
      "metadata": {
        "id": "cQjMQtmDnQsm"
      },
      "source": [
        "An extra day is added to the calendar almost every four years as February 29, and the day is called a leap day. It corrects the calendar for the fact that our planet takes approximately 365.25 days to orbit the sun. A leap year contains a leap day.\n",
        "\n",
        "In the Gregorian calendar, three conditions are used to identify leap years:\n",
        "\n",
        "\n",
        "*   The year can be evenly divided by 4, is a leap year, unless:\n",
        "  *   The year can be evenly divided by 100, it is NOT a leap year, unless:\n",
        "\n",
        "      *   The year is also evenly divisible by 400. Then it is a leap year.\n",
        " \n",
        "This means that in the Gregorian calendar, the years 2000 and 2400 are leap years, while 1800, 1900, 2100, 2200, 2300 and 2500 are NOT leap years. [Source](https://www.timeanddate.com/date/leapyear.html)\n",
        "\n",
        "**Task**\n",
        "\n",
        "Given a year, determine whether it is a leap year. If it is a leap year, return the Boolean `True`, otherwise return `False`.\n",
        "\n",
        "Note that the code stub provided reads from STDIN and passes arguments to the `is_leap` function. It is only necessary to complete the `is_leap` function.\n",
        "\n",
        "**Input Format**\n",
        "\n",
        "Read $year$, the year to test.\n",
        "\n",
        "**Constraints**\n",
        "\n",
        "$1990<=year<=10^5$\n",
        "\n",
        "**Output Format**\n",
        "\n",
        "The function must return a Boolean value (True/False). Output is handled by the provided code stub.\n",
        "\n",
        "**Sample Input 0**\n",
        "```\n",
        "1990\n",
        "```\n",
        "**Sample Output 0**\n",
        "```\n",
        "False\n",
        "```\n",
        "**Explanation 0**\n",
        "\n",
        "1990 is not a multiple of 4 hence it's not a leap year."
      ]
    },
    {
      "cell_type": "code",
      "metadata": {
        "colab": {
          "base_uri": "https://localhost:8080/"
        },
        "id": "l-x7yhlloi4K",
        "outputId": "92ef8a2b-4a87-4d43-af0e-a071364c59c4"
      },
      "source": [
        "#method 1\n",
        "import calendar\n",
        "\n",
        "def is_leap(year):\n",
        "    return calendar.isleap(year)\n",
        "\n",
        "year = int(input())\n",
        "print(is_leap(year))"
      ],
      "execution_count": null,
      "outputs": [
        {
          "output_type": "stream",
          "name": "stdout",
          "text": [
            "1990\n",
            "False\n"
          ]
        }
      ]
    },
    {
      "cell_type": "code",
      "metadata": {
        "colab": {
          "base_uri": "https://localhost:8080/"
        },
        "id": "gIFiOj7Dq2yk",
        "outputId": "308ccf4d-f5d3-420b-f202-aa2695a7f7df"
      },
      "source": [
        "#method 2\n",
        "def is_leap(year):\n",
        "    leap = False;\n",
        "    if year%4 == 0:\n",
        "        if year%400 == 0:\n",
        "            leap = true;\n",
        "        elif year%100 == 0:\n",
        "            leap =  false;  \n",
        "    return leap\n",
        "year = int(input())\n",
        "print(is_leap(year))"
      ],
      "execution_count": null,
      "outputs": [
        {
          "output_type": "stream",
          "name": "stdout",
          "text": [
            "1990\n",
            "False\n"
          ]
        }
      ]
    },
    {
      "cell_type": "code",
      "metadata": {
        "colab": {
          "base_uri": "https://localhost:8080/"
        },
        "id": "mVcismkPrSbY",
        "outputId": "2986f1b2-6022-4894-e7ec-ff043a5b11c1"
      },
      "source": [
        "def is_leap(year):\n",
        "    return year % 4 == 0 and (year % 400 == 0 or year % 100 != 0)\n",
        "year = int(input())\n",
        "print(is_leap(year))"
      ],
      "execution_count": null,
      "outputs": [
        {
          "output_type": "stream",
          "name": "stdout",
          "text": [
            "1990\n",
            "False\n"
          ]
        }
      ]
    }
  ]
}